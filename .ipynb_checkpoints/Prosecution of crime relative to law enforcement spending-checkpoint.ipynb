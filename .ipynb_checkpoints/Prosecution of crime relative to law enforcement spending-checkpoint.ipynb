{
 "cells": [
  {
   "cell_type": "markdown",
   "metadata": {},
   "source": [
    "# Notes on the datasets"
   ]
  },
  {
   "cell_type": "markdown",
   "metadata": {},
   "source": [
    "## - BJS Budget Dataset\n",
    "### - Unfriendly layout for most tools (BJS DS)\n",
    "#### - https://www.bjs.gov/index.cfm?ty=tp&tid=5\n",
    "### - tables 7,8, and 9 (read the readme.txt) are interesting\n",
    "## - BJS Arrest Dataset\n",
    "#### - https://www.bjs.gov/index.cfm?ty=tp&tid=63#summary\n",
    "### - Table 1, 2, 3, 5, 1515T08\n",
    "## - https://state-local-finance-data.taxpolicycenter.org//pages.cfm"
   ]
  },
  {
   "cell_type": "code",
   "execution_count": 25,
   "metadata": {},
   "outputs": [],
   "source": [
    "import pandas as pd\n",
    "import matplotlib.pyplot as plt"
   ]
  },
  {
   "cell_type": "code",
   "execution_count": 31,
   "metadata": {},
   "outputs": [],
   "source": [
    "data = pd.read_excel('Arrest_data.xlsx')\n",
    "data1 = pd.read_excel('pol_exp_dat.xlsx')"
   ]
  },
  {
   "cell_type": "code",
   "execution_count": 32,
   "metadata": {},
   "outputs": [
    {
     "data": {
      "text/html": [
       "<div>\n",
       "<style scoped>\n",
       "    .dataframe tbody tr th:only-of-type {\n",
       "        vertical-align: middle;\n",
       "    }\n",
       "\n",
       "    .dataframe tbody tr th {\n",
       "        vertical-align: top;\n",
       "    }\n",
       "\n",
       "    .dataframe thead th {\n",
       "        text-align: right;\n",
       "    }\n",
       "</style>\n",
       "<table border=\"1\" class=\"dataframe\">\n",
       "  <thead>\n",
       "    <tr style=\"text-align: right;\">\n",
       "      <th></th>\n",
       "      <th>Year(fiscal)</th>\n",
       "      <th>Arrested suspects</th>\n",
       "      <th>Suspects investigated</th>\n",
       "      <th>Defendants charged</th>\n",
       "      <th>Defendents convicted</th>\n",
       "      <th>Defendents sentenced to prison</th>\n",
       "    </tr>\n",
       "  </thead>\n",
       "  <tbody>\n",
       "    <tr>\n",
       "      <td>0</td>\n",
       "      <td>1994</td>\n",
       "      <td>80450</td>\n",
       "      <td>99251</td>\n",
       "      <td>62327</td>\n",
       "      <td>50701</td>\n",
       "      <td>33022</td>\n",
       "    </tr>\n",
       "    <tr>\n",
       "      <td>1</td>\n",
       "      <td>1995</td>\n",
       "      <td>82989</td>\n",
       "      <td>102220</td>\n",
       "      <td>63547</td>\n",
       "      <td>47556</td>\n",
       "      <td>31805</td>\n",
       "    </tr>\n",
       "    <tr>\n",
       "      <td>2</td>\n",
       "      <td>1996</td>\n",
       "      <td>84860</td>\n",
       "      <td>97776</td>\n",
       "      <td>65480</td>\n",
       "      <td>53076</td>\n",
       "      <td>36373</td>\n",
       "    </tr>\n",
       "  </tbody>\n",
       "</table>\n",
       "</div>"
      ],
      "text/plain": [
       "   Year(fiscal)  Arrested suspects  Suspects investigated  Defendants charged  \\\n",
       "0          1994              80450                  99251               62327   \n",
       "1          1995              82989                 102220               63547   \n",
       "2          1996              84860                  97776               65480   \n",
       "\n",
       "   Defendents convicted  Defendents sentenced to prison  \n",
       "0                 50701                           33022  \n",
       "1                 47556                           31805  \n",
       "2                 53076                           36373  "
      ]
     },
     "execution_count": 32,
     "metadata": {},
     "output_type": "execute_result"
    }
   ],
   "source": [
    "data.head(3)"
   ]
  },
  {
   "cell_type": "code",
   "execution_count": 33,
   "metadata": {},
   "outputs": [
    {
     "data": {
      "text/plain": [
       "[<matplotlib.lines.Line2D at 0x1fd0be670c8>]"
      ]
     },
     "execution_count": 33,
     "metadata": {},
     "output_type": "execute_result"
    },
    {
     "data": {
      "image/png": "[encoded data removed]",
      "text/plain": [
       "<Figure size 432x288 with 1 Axes>"
      ]
     },
     "metadata": {
      "needs_background": "light"
     },
     "output_type": "display_data"
    }
   ],
   "source": [
    "plt.plot(data['Year(fiscal)'], data['Arrested suspects'])"
   ]
  },
  {
   "cell_type": "code",
   "execution_count": 34,
   "metadata": {},
   "outputs": [
    {
     "data": {
      "text/html": [
       "<div>\n",
       "<style scoped>\n",
       "    .dataframe tbody tr th:only-of-type {\n",
       "        vertical-align: middle;\n",
       "    }\n",
       "\n",
       "    .dataframe tbody tr th {\n",
       "        vertical-align: top;\n",
       "    }\n",
       "\n",
       "    .dataframe thead th {\n",
       "        text-align: right;\n",
       "    }\n",
       "</style>\n",
       "<table border=\"1\" class=\"dataframe\">\n",
       "  <thead>\n",
       "    <tr style=\"text-align: right;\">\n",
       "      <th></th>\n",
       "      <th>STATE</th>\n",
       "      <th>SERIES</th>\n",
       "      <th>1994</th>\n",
       "      <th>1995</th>\n",
       "      <th>1996</th>\n",
       "      <th>1997</th>\n",
       "      <th>1998</th>\n",
       "      <th>1999</th>\n",
       "      <th>2000</th>\n",
       "      <th>2001</th>\n",
       "      <th>...</th>\n",
       "      <th>2008</th>\n",
       "      <th>2009</th>\n",
       "      <th>2010</th>\n",
       "      <th>2011</th>\n",
       "      <th>2012</th>\n",
       "      <th>2013</th>\n",
       "      <th>2014</th>\n",
       "      <th>2015</th>\n",
       "      <th>2016</th>\n",
       "      <th>2017</th>\n",
       "    </tr>\n",
       "  </thead>\n",
       "  <tbody>\n",
       "    <tr>\n",
       "      <td>0</td>\n",
       "      <td>United States</td>\n",
       "      <td>(R01) Total Revenue</td>\n",
       "      <td>1331492151</td>\n",
       "      <td>1417924528</td>\n",
       "      <td>1513633310</td>\n",
       "      <td>1616495229</td>\n",
       "      <td>1720889368</td>\n",
       "      <td>1794121421</td>\n",
       "      <td>1942328438</td>\n",
       "      <td>1890891484</td>\n",
       "      <td>...</td>\n",
       "      <td>2620868024</td>\n",
       "      <td>2098595407</td>\n",
       "      <td>3180023050</td>\n",
       "      <td>3440608614</td>\n",
       "      <td>2992556766</td>\n",
       "      <td>3432010291</td>\n",
       "      <td>3629158592</td>\n",
       "      <td>3416065033</td>\n",
       "      <td>3408694937</td>\n",
       "      <td>3918842777</td>\n",
       "    </tr>\n",
       "    <tr>\n",
       "      <td>1</td>\n",
       "      <td>United States</td>\n",
       "      <td>(E019) Police &amp; Fire Protection-Dir Exp</td>\n",
       "      <td>54767418</td>\n",
       "      <td>58064013</td>\n",
       "      <td>62391673</td>\n",
       "      <td>66712592</td>\n",
       "      <td>70744074</td>\n",
       "      <td>74628629</td>\n",
       "      <td>79900002</td>\n",
       "      <td>84554276</td>\n",
       "      <td>...</td>\n",
       "      <td>128767899</td>\n",
       "      <td>135903549</td>\n",
       "      <td>137106351</td>\n",
       "      <td>138146794</td>\n",
       "      <td>139396297</td>\n",
       "      <td>141144414</td>\n",
       "      <td>146053936</td>\n",
       "      <td>150773707</td>\n",
       "      <td>157098460</td>\n",
       "      <td>164960571</td>\n",
       "    </tr>\n",
       "    <tr>\n",
       "      <td>2</td>\n",
       "      <td>United States</td>\n",
       "      <td>(E087) Police Prot-Direct Exp</td>\n",
       "      <td>38644621</td>\n",
       "      <td>41054532</td>\n",
       "      <td>44682901</td>\n",
       "      <td>47389234</td>\n",
       "      <td>50475211</td>\n",
       "      <td>53366526</td>\n",
       "      <td>56798071</td>\n",
       "      <td>59584216</td>\n",
       "      <td>...</td>\n",
       "      <td>89463025</td>\n",
       "      <td>95017084</td>\n",
       "      <td>95771705</td>\n",
       "      <td>96766175</td>\n",
       "      <td>96875942</td>\n",
       "      <td>98601270</td>\n",
       "      <td>101738800</td>\n",
       "      <td>104806925</td>\n",
       "      <td>109116058</td>\n",
       "      <td>114503466</td>\n",
       "    </tr>\n",
       "    <tr>\n",
       "      <td>3</td>\n",
       "      <td>United States</td>\n",
       "      <td>(E088) Police Prot-Cur Oper (E62)</td>\n",
       "      <td>36998096</td>\n",
       "      <td>39111349</td>\n",
       "      <td>42272171</td>\n",
       "      <td>44973342</td>\n",
       "      <td>47889915</td>\n",
       "      <td>50670136</td>\n",
       "      <td>53990068</td>\n",
       "      <td>56934385</td>\n",
       "      <td>...</td>\n",
       "      <td>85657625</td>\n",
       "      <td>91052101</td>\n",
       "      <td>91694977</td>\n",
       "      <td>92887129</td>\n",
       "      <td>93198776</td>\n",
       "      <td>94773150</td>\n",
       "      <td>98024508</td>\n",
       "      <td>101109378</td>\n",
       "      <td>105345054</td>\n",
       "      <td>110477219</td>\n",
       "    </tr>\n",
       "    <tr>\n",
       "      <td>4</td>\n",
       "      <td>United States</td>\n",
       "      <td>(E089) Police Prot-Cap Outlay</td>\n",
       "      <td>1646525</td>\n",
       "      <td>1943183</td>\n",
       "      <td>2410730</td>\n",
       "      <td>2415892</td>\n",
       "      <td>2585296</td>\n",
       "      <td>2696390</td>\n",
       "      <td>2808003</td>\n",
       "      <td>2649831</td>\n",
       "      <td>...</td>\n",
       "      <td>3805400</td>\n",
       "      <td>3964983</td>\n",
       "      <td>4076728</td>\n",
       "      <td>3879046</td>\n",
       "      <td>3677166</td>\n",
       "      <td>3828120</td>\n",
       "      <td>3714292</td>\n",
       "      <td>3697547</td>\n",
       "      <td>3771004</td>\n",
       "      <td>4026247</td>\n",
       "    </tr>\n",
       "  </tbody>\n",
       "</table>\n",
       "<p>5 rows × 26 columns</p>\n",
       "</div>"
      ],
      "text/plain": [
       "           STATE                                   SERIES        1994  \\\n",
       "0  United States                      (R01) Total Revenue  1331492151   \n",
       "1  United States  (E019) Police & Fire Protection-Dir Exp    54767418   \n",
       "2  United States            (E087) Police Prot-Direct Exp    38644621   \n",
       "3  United States        (E088) Police Prot-Cur Oper (E62)    36998096   \n",
       "4  United States            (E089) Police Prot-Cap Outlay     1646525   \n",
       "\n",
       "         1995        1996        1997        1998        1999        2000  \\\n",
       "0  1417924528  1513633310  1616495229  1720889368  1794121421  1942328438   \n",
       "1    58064013    62391673    66712592    70744074    74628629    79900002   \n",
       "2    41054532    44682901    47389234    50475211    53366526    56798071   \n",
       "3    39111349    42272171    44973342    47889915    50670136    53990068   \n",
       "4     1943183     2410730     2415892     2585296     2696390     2808003   \n",
       "\n",
       "         2001  ...        2008        2009        2010        2011  \\\n",
       "0  1890891484  ...  2620868024  2098595407  3180023050  3440608614   \n",
       "1    84554276  ...   128767899   135903549   137106351   138146794   \n",
       "2    59584216  ...    89463025    95017084    95771705    96766175   \n",
       "3    56934385  ...    85657625    91052101    91694977    92887129   \n",
       "4     2649831  ...     3805400     3964983     4076728     3879046   \n",
       "\n",
       "         2012        2013        2014        2015        2016        2017  \n",
       "0  2992556766  3432010291  3629158592  3416065033  3408694937  3918842777  \n",
       "1   139396297   141144414   146053936   150773707   157098460   164960571  \n",
       "2    96875942    98601270   101738800   104806925   109116058   114503466  \n",
       "3    93198776    94773150    98024508   101109378   105345054   110477219  \n",
       "4     3677166     3828120     3714292     3697547     3771004     4026247  \n",
       "\n",
       "[5 rows x 26 columns]"
      ]
     },
     "execution_count": 34,
     "metadata": {},
     "output_type": "execute_result"
    }
   ],
   "source": [
    "data1.head()"
   ]
  },
  {
   "cell_type": "code",
   "execution_count": 36,
   "metadata": {},
   "outputs": [],
   "source": [
    "data1 = data1.T"
   ]
  },
  {
   "cell_type": "code",
   "execution_count": 41,
   "metadata": {},
   "outputs": [],
   "source": [
    "data1 = data1.drop(data1.index[0])"
   ]
  },
  {
   "cell_type": "code",
   "execution_count": 44,
   "metadata": {},
   "outputs": [],
   "source": [
    "data1 = data1.rename(columns=data1.iloc[0])\n",
    "\n",
    "data1 = data1.drop(data1.index[0])"
   ]
  },
  {
   "cell_type": "code",
   "execution_count": 46,
   "metadata": {},
   "outputs": [
    {
     "data": {
      "text/plain": [
       "[<matplotlib.lines.Line2D at 0x1fd0bef3f48>]"
      ]
     },
     "execution_count": 46,
     "metadata": {},
     "output_type": "execute_result"
    },
    {
     "data": {
      "image/png": "[encoded data removed]",
      "text/plain": [
       "<Figure size 432x288 with 1 Axes>"
      ]
     },
     "metadata": {
      "needs_background": "light"
     },
     "output_type": "display_data"
    }
   ],
   "source": [
    "plt.plot(data1.index, data1['(E019) Police & Fire Protection-Dir Exp'])"
   ]
  },
  {
   "cell_type": "code",
   "execution_count": null,
   "metadata": {},
   "outputs": [],
   "source": []
  }
 ],
 "metadata": {
  "kernelspec": {
   "display_name": "Python 3",
   "language": "python",
   "name": "python3"
  },
  "language_info": {
   "codemirror_mode": {
    "name": "ipython",
    "version": 3
   },
   "file_extension": ".py",
   "mimetype": "text/x-python",
   "name": "python",
   "nbconvert_exporter": "python",
   "pygments_lexer": "ipython3",
   "version": "3.7.4"
  }
 },
 "nbformat": 4,
 "nbformat_minor": 2
}
