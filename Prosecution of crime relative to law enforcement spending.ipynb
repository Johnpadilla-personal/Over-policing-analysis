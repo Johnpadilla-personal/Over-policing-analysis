{
 "cells": [
  {
   "cell_type": "markdown",
   "metadata": {},
   "source": [
    "# Notes on the datasets"
   ]
  },
  {
   "cell_type": "markdown",
   "metadata": {},
   "source": [
    "## - BJS Budget Dataset\n",
    "#### - https://www.bjs.gov/index.cfm?ty=tp&tid=5\n",
    "### - tables 7,8, and 9 (read the readme.txt) are interesting\n",
    "## - BJS Arrest Dataset\n",
    "#### - https://www.bjs.gov/index.cfm?ty=tp&tid=63#summary\n",
    "### - Table 1, 2, 3, 5, 1515T08\n",
    "## - https://state-local-finance-data.taxpolicycenter.org//pages.cfm"
   ]
  },
  {
   "cell_type": "markdown",
   "metadata": {},
   "source": [
    "# Goal: Prosecution of crime relative to law enforcement spending\n",
    "## Subgoals: Why the sudden decrease in arrests since 2010?, Will decreases/increases in funding affect the number of arrests?, What are other related factors that could have contributed to the decrease in arrests?"
   ]
  },
  {
   "cell_type": "code",
   "execution_count": 1,
   "metadata": {},
   "outputs": [
    {
     "data": {
      "text/html": [
       "<div>\n",
       "<style scoped>\n",
       "    .dataframe tbody tr th:only-of-type {\n",
       "        vertical-align: middle;\n",
       "    }\n",
       "\n",
       "    .dataframe tbody tr th {\n",
       "        vertical-align: top;\n",
       "    }\n",
       "\n",
       "    .dataframe thead th {\n",
       "        text-align: right;\n",
       "    }\n",
       "</style>\n",
       "<table border=\"1\" class=\"dataframe\">\n",
       "  <thead>\n",
       "    <tr style=\"text-align: right;\">\n",
       "      <th></th>\n",
       "      <th>(R01) Total Revenue</th>\n",
       "      <th>(E019) Police &amp; Fire Protection-Dir Exp</th>\n",
       "      <th>(E087) Police Prot-Direct Exp</th>\n",
       "      <th>(E088) Police Prot-Cur Oper (E62)</th>\n",
       "      <th>(E089) Police Prot-Cap Outlay</th>\n",
       "      <th>Year(fiscal)</th>\n",
       "      <th>Arrested suspects</th>\n",
       "      <th>Suspects investigated</th>\n",
       "      <th>Defendants charged</th>\n",
       "      <th>Defendents convicted</th>\n",
       "      <th>Defendents sentenced to prison</th>\n",
       "      <th>police officers killed</th>\n",
       "      <th>Number of officers</th>\n",
       "      <th>felonious killings of police officer per 100,000 officers</th>\n",
       "      <th>Unnamed: 4</th>\n",
       "      <th>US Population</th>\n",
       "    </tr>\n",
       "  </thead>\n",
       "  <tbody>\n",
       "    <tr>\n",
       "      <td>0</td>\n",
       "      <td>1331492151</td>\n",
       "      <td>54767418</td>\n",
       "      <td>38644621</td>\n",
       "      <td>36998096</td>\n",
       "      <td>1646525</td>\n",
       "      <td>1994</td>\n",
       "      <td>80450</td>\n",
       "      <td>99251</td>\n",
       "      <td>62327</td>\n",
       "      <td>50701</td>\n",
       "      <td>33022</td>\n",
       "      <td>76</td>\n",
       "      <td>454105</td>\n",
       "      <td>16.74</td>\n",
       "      <td>NaN</td>\n",
       "      <td>263126000</td>\n",
       "    </tr>\n",
       "    <tr>\n",
       "      <td>1</td>\n",
       "      <td>1417924528</td>\n",
       "      <td>58064013</td>\n",
       "      <td>41054532</td>\n",
       "      <td>39111349</td>\n",
       "      <td>1943183</td>\n",
       "      <td>1995</td>\n",
       "      <td>82989</td>\n",
       "      <td>102220</td>\n",
       "      <td>63547</td>\n",
       "      <td>47556</td>\n",
       "      <td>31805</td>\n",
       "      <td>74</td>\n",
       "      <td>421414</td>\n",
       "      <td>17.56</td>\n",
       "      <td>70.0</td>\n",
       "      <td>266278000</td>\n",
       "    </tr>\n",
       "    <tr>\n",
       "      <td>2</td>\n",
       "      <td>1513633310</td>\n",
       "      <td>62391673</td>\n",
       "      <td>44682901</td>\n",
       "      <td>42272171</td>\n",
       "      <td>2410730</td>\n",
       "      <td>1996</td>\n",
       "      <td>84860</td>\n",
       "      <td>97776</td>\n",
       "      <td>65480</td>\n",
       "      <td>53076</td>\n",
       "      <td>36373</td>\n",
       "      <td>55</td>\n",
       "      <td>373575</td>\n",
       "      <td>14.72</td>\n",
       "      <td>NaN</td>\n",
       "      <td>269394000</td>\n",
       "    </tr>\n",
       "    <tr>\n",
       "      <td>3</td>\n",
       "      <td>1616495229</td>\n",
       "      <td>66712592</td>\n",
       "      <td>47389234</td>\n",
       "      <td>44973342</td>\n",
       "      <td>2415892</td>\n",
       "      <td>1997</td>\n",
       "      <td>91504</td>\n",
       "      <td>110034</td>\n",
       "      <td>69351</td>\n",
       "      <td>56570</td>\n",
       "      <td>39431</td>\n",
       "      <td>65</td>\n",
       "      <td>451980</td>\n",
       "      <td>14.38</td>\n",
       "      <td>NaN</td>\n",
       "      <td>272657000</td>\n",
       "    </tr>\n",
       "    <tr>\n",
       "      <td>4</td>\n",
       "      <td>1720889368</td>\n",
       "      <td>70744074</td>\n",
       "      <td>50475211</td>\n",
       "      <td>47889915</td>\n",
       "      <td>2585296</td>\n",
       "      <td>1998</td>\n",
       "      <td>103866</td>\n",
       "      <td>115692</td>\n",
       "      <td>78172</td>\n",
       "      <td>60958</td>\n",
       "      <td>43041</td>\n",
       "      <td>61</td>\n",
       "      <td>445898</td>\n",
       "      <td>13.68</td>\n",
       "      <td>NaN</td>\n",
       "      <td>275854000</td>\n",
       "    </tr>\n",
       "    <tr>\n",
       "      <td>5</td>\n",
       "      <td>1794121421</td>\n",
       "      <td>74628629</td>\n",
       "      <td>53366526</td>\n",
       "      <td>50670136</td>\n",
       "      <td>2696390</td>\n",
       "      <td>1999</td>\n",
       "      <td>109033</td>\n",
       "      <td>117994</td>\n",
       "      <td>80031</td>\n",
       "      <td>66055</td>\n",
       "      <td>47659</td>\n",
       "      <td>42</td>\n",
       "      <td>470145</td>\n",
       "      <td>8.93</td>\n",
       "      <td>NaN</td>\n",
       "      <td>279040000</td>\n",
       "    </tr>\n",
       "    <tr>\n",
       "      <td>6</td>\n",
       "      <td>1942328438</td>\n",
       "      <td>79900002</td>\n",
       "      <td>56798071</td>\n",
       "      <td>53990068</td>\n",
       "      <td>2808003</td>\n",
       "      <td>2000</td>\n",
       "      <td>115025</td>\n",
       "      <td>123559</td>\n",
       "      <td>83251</td>\n",
       "      <td>68156</td>\n",
       "      <td>50451</td>\n",
       "      <td>51</td>\n",
       "      <td>441311</td>\n",
       "      <td>11.56</td>\n",
       "      <td>54.8</td>\n",
       "      <td>282162411</td>\n",
       "    </tr>\n",
       "    <tr>\n",
       "      <td>7</td>\n",
       "      <td>1890891484</td>\n",
       "      <td>84554276</td>\n",
       "      <td>59584216</td>\n",
       "      <td>56934385</td>\n",
       "      <td>2649831</td>\n",
       "      <td>2001</td>\n",
       "      <td>116777</td>\n",
       "      <td>121818</td>\n",
       "      <td>82614</td>\n",
       "      <td>68533</td>\n",
       "      <td>51057</td>\n",
       "      <td>70</td>\n",
       "      <td>464515</td>\n",
       "      <td>15.07</td>\n",
       "      <td>NaN</td>\n",
       "      <td>284968955</td>\n",
       "    </tr>\n",
       "    <tr>\n",
       "      <td>8</td>\n",
       "      <td>1806591592</td>\n",
       "      <td>90456016</td>\n",
       "      <td>64458395</td>\n",
       "      <td>61474298</td>\n",
       "      <td>2984097</td>\n",
       "      <td>2002</td>\n",
       "      <td>121610</td>\n",
       "      <td>124335</td>\n",
       "      <td>87727</td>\n",
       "      <td>71798</td>\n",
       "      <td>53682</td>\n",
       "      <td>56</td>\n",
       "      <td>482762</td>\n",
       "      <td>11.60</td>\n",
       "      <td>NaN</td>\n",
       "      <td>287625193</td>\n",
       "    </tr>\n",
       "    <tr>\n",
       "      <td>9</td>\n",
       "      <td>2047337010</td>\n",
       "      <td>95215430</td>\n",
       "      <td>67361388</td>\n",
       "      <td>64532234</td>\n",
       "      <td>2829154</td>\n",
       "      <td>2003</td>\n",
       "      <td>124708</td>\n",
       "      <td>130078</td>\n",
       "      <td>92085</td>\n",
       "      <td>75805</td>\n",
       "      <td>57629</td>\n",
       "      <td>52</td>\n",
       "      <td>482985</td>\n",
       "      <td>10.77</td>\n",
       "      <td>NaN</td>\n",
       "      <td>290107933</td>\n",
       "    </tr>\n",
       "    <tr>\n",
       "      <td>10</td>\n",
       "      <td>2434155253</td>\n",
       "      <td>99078863</td>\n",
       "      <td>70088308</td>\n",
       "      <td>67314138</td>\n",
       "      <td>2774170</td>\n",
       "      <td>2004</td>\n",
       "      <td>138223</td>\n",
       "      <td>141215</td>\n",
       "      <td>92645</td>\n",
       "      <td>74782</td>\n",
       "      <td>58106</td>\n",
       "      <td>57</td>\n",
       "      <td>499396</td>\n",
       "      <td>11.41</td>\n",
       "      <td>NaN</td>\n",
       "      <td>292805298</td>\n",
       "    </tr>\n",
       "    <tr>\n",
       "      <td>11</td>\n",
       "      <td>2528546342</td>\n",
       "      <td>104961178</td>\n",
       "      <td>74131066</td>\n",
       "      <td>71152613</td>\n",
       "      <td>2978453</td>\n",
       "      <td>2005</td>\n",
       "      <td>137411</td>\n",
       "      <td>137590</td>\n",
       "      <td>91578</td>\n",
       "      <td>78042</td>\n",
       "      <td>61151</td>\n",
       "      <td>55</td>\n",
       "      <td>485048</td>\n",
       "      <td>11.34</td>\n",
       "      <td>58.0</td>\n",
       "      <td>295516599</td>\n",
       "    </tr>\n",
       "    <tr>\n",
       "      <td>12</td>\n",
       "      <td>2742151182</td>\n",
       "      <td>112126520</td>\n",
       "      <td>78471954</td>\n",
       "      <td>75241430</td>\n",
       "      <td>3230524</td>\n",
       "      <td>2006</td>\n",
       "      <td>144072</td>\n",
       "      <td>133935</td>\n",
       "      <td>87650</td>\n",
       "      <td>79904</td>\n",
       "      <td>63699</td>\n",
       "      <td>48</td>\n",
       "      <td>495270</td>\n",
       "      <td>9.69</td>\n",
       "      <td>NaN</td>\n",
       "      <td>298379912</td>\n",
       "    </tr>\n",
       "    <tr>\n",
       "      <td>13</td>\n",
       "      <td>3067232228</td>\n",
       "      <td>120666049</td>\n",
       "      <td>83978498</td>\n",
       "      <td>80271181</td>\n",
       "      <td>3707317</td>\n",
       "      <td>2007</td>\n",
       "      <td>151844</td>\n",
       "      <td>138410</td>\n",
       "      <td>88742</td>\n",
       "      <td>79356</td>\n",
       "      <td>62893</td>\n",
       "      <td>57</td>\n",
       "      <td>517875</td>\n",
       "      <td>11.01</td>\n",
       "      <td>NaN</td>\n",
       "      <td>301231207</td>\n",
       "    </tr>\n",
       "    <tr>\n",
       "      <td>14</td>\n",
       "      <td>2620868024</td>\n",
       "      <td>128767899</td>\n",
       "      <td>89463025</td>\n",
       "      <td>85657625</td>\n",
       "      <td>3805400</td>\n",
       "      <td>2008</td>\n",
       "      <td>173463</td>\n",
       "      <td>178570</td>\n",
       "      <td>91835</td>\n",
       "      <td>82823</td>\n",
       "      <td>64529</td>\n",
       "      <td>41</td>\n",
       "      <td>518120</td>\n",
       "      <td>7.91</td>\n",
       "      <td>NaN</td>\n",
       "      <td>304093966</td>\n",
       "    </tr>\n",
       "    <tr>\n",
       "      <td>15</td>\n",
       "      <td>2098595407</td>\n",
       "      <td>135903549</td>\n",
       "      <td>95017084</td>\n",
       "      <td>91052101</td>\n",
       "      <td>3964983</td>\n",
       "      <td>2009</td>\n",
       "      <td>181726</td>\n",
       "      <td>188341</td>\n",
       "      <td>97513</td>\n",
       "      <td>86975</td>\n",
       "      <td>67499</td>\n",
       "      <td>48</td>\n",
       "      <td>556155</td>\n",
       "      <td>8.63</td>\n",
       "      <td>NaN</td>\n",
       "      <td>306771529</td>\n",
       "    </tr>\n",
       "    <tr>\n",
       "      <td>16</td>\n",
       "      <td>3180023050</td>\n",
       "      <td>137106351</td>\n",
       "      <td>95771705</td>\n",
       "      <td>91694977</td>\n",
       "      <td>4076728</td>\n",
       "      <td>2010</td>\n",
       "      <td>179489</td>\n",
       "      <td>187916</td>\n",
       "      <td>99921</td>\n",
       "      <td>89902</td>\n",
       "      <td>69494</td>\n",
       "      <td>56</td>\n",
       "      <td>532395</td>\n",
       "      <td>10.52</td>\n",
       "      <td>50.0</td>\n",
       "      <td>309321666</td>\n",
       "    </tr>\n",
       "    <tr>\n",
       "      <td>17</td>\n",
       "      <td>3440608614</td>\n",
       "      <td>138146794</td>\n",
       "      <td>96766175</td>\n",
       "      <td>92887129</td>\n",
       "      <td>3879046</td>\n",
       "      <td>2011</td>\n",
       "      <td>177547</td>\n",
       "      <td>187735</td>\n",
       "      <td>103021</td>\n",
       "      <td>92240</td>\n",
       "      <td>70049</td>\n",
       "      <td>72</td>\n",
       "      <td>535651</td>\n",
       "      <td>13.44</td>\n",
       "      <td>NaN</td>\n",
       "      <td>311556874</td>\n",
       "    </tr>\n",
       "    <tr>\n",
       "      <td>18</td>\n",
       "      <td>2992556766</td>\n",
       "      <td>139396297</td>\n",
       "      <td>96875942</td>\n",
       "      <td>93198776</td>\n",
       "      <td>3677166</td>\n",
       "      <td>2012</td>\n",
       "      <td>172248</td>\n",
       "      <td>190596</td>\n",
       "      <td>92789</td>\n",
       "      <td>87908</td>\n",
       "      <td>67582</td>\n",
       "      <td>49</td>\n",
       "      <td>520047</td>\n",
       "      <td>9.42</td>\n",
       "      <td>NaN</td>\n",
       "      <td>313830990</td>\n",
       "    </tr>\n",
       "    <tr>\n",
       "      <td>19</td>\n",
       "      <td>3432010291</td>\n",
       "      <td>141144414</td>\n",
       "      <td>98601270</td>\n",
       "      <td>94773150</td>\n",
       "      <td>3828120</td>\n",
       "      <td>2013</td>\n",
       "      <td>188164</td>\n",
       "      <td>190267</td>\n",
       "      <td>89843</td>\n",
       "      <td>82838</td>\n",
       "      <td>64390</td>\n",
       "      <td>27</td>\n",
       "      <td>533895</td>\n",
       "      <td>5.06</td>\n",
       "      <td>NaN</td>\n",
       "      <td>315993715</td>\n",
       "    </tr>\n",
       "  </tbody>\n",
       "</table>\n",
       "</div>"
      ],
      "text/plain": [
       "   (R01) Total Revenue (E019) Police & Fire Protection-Dir Exp  \\\n",
       "0           1331492151                                54767418   \n",
       "1           1417924528                                58064013   \n",
       "2           1513633310                                62391673   \n",
       "3           1616495229                                66712592   \n",
       "4           1720889368                                70744074   \n",
       "5           1794121421                                74628629   \n",
       "6           1942328438                                79900002   \n",
       "7           1890891484                                84554276   \n",
       "8           1806591592                                90456016   \n",
       "9           2047337010                                95215430   \n",
       "10          2434155253                                99078863   \n",
       "11          2528546342                               104961178   \n",
       "12          2742151182                               112126520   \n",
       "13          3067232228                               120666049   \n",
       "14          2620868024                               128767899   \n",
       "15          2098595407                               135903549   \n",
       "16          3180023050                               137106351   \n",
       "17          3440608614                               138146794   \n",
       "18          2992556766                               139396297   \n",
       "19          3432010291                               141144414   \n",
       "\n",
       "   (E087) Police Prot-Direct Exp (E088) Police Prot-Cur Oper (E62)  \\\n",
       "0                       38644621                          36998096   \n",
       "1                       41054532                          39111349   \n",
       "2                       44682901                          42272171   \n",
       "3                       47389234                          44973342   \n",
       "4                       50475211                          47889915   \n",
       "5                       53366526                          50670136   \n",
       "6                       56798071                          53990068   \n",
       "7                       59584216                          56934385   \n",
       "8                       64458395                          61474298   \n",
       "9                       67361388                          64532234   \n",
       "10                      70088308                          67314138   \n",
       "11                      74131066                          71152613   \n",
       "12                      78471954                          75241430   \n",
       "13                      83978498                          80271181   \n",
       "14                      89463025                          85657625   \n",
       "15                      95017084                          91052101   \n",
       "16                      95771705                          91694977   \n",
       "17                      96766175                          92887129   \n",
       "18                      96875942                          93198776   \n",
       "19                      98601270                          94773150   \n",
       "\n",
       "   (E089) Police Prot-Cap Outlay Year(fiscal)  Arrested suspects  \\\n",
       "0                        1646525         1994              80450   \n",
       "1                        1943183         1995              82989   \n",
       "2                        2410730         1996              84860   \n",
       "3                        2415892         1997              91504   \n",
       "4                        2585296         1998             103866   \n",
       "5                        2696390         1999             109033   \n",
       "6                        2808003         2000             115025   \n",
       "7                        2649831         2001             116777   \n",
       "8                        2984097         2002             121610   \n",
       "9                        2829154         2003             124708   \n",
       "10                       2774170         2004             138223   \n",
       "11                       2978453         2005             137411   \n",
       "12                       3230524         2006             144072   \n",
       "13                       3707317         2007             151844   \n",
       "14                       3805400         2008             173463   \n",
       "15                       3964983         2009             181726   \n",
       "16                       4076728         2010             179489   \n",
       "17                       3879046         2011             177547   \n",
       "18                       3677166         2012             172248   \n",
       "19                       3828120         2013             188164   \n",
       "\n",
       "    Suspects investigated  Defendants charged  Defendents convicted  \\\n",
       "0                   99251               62327                 50701   \n",
       "1                  102220               63547                 47556   \n",
       "2                   97776               65480                 53076   \n",
       "3                  110034               69351                 56570   \n",
       "4                  115692               78172                 60958   \n",
       "5                  117994               80031                 66055   \n",
       "6                  123559               83251                 68156   \n",
       "7                  121818               82614                 68533   \n",
       "8                  124335               87727                 71798   \n",
       "9                  130078               92085                 75805   \n",
       "10                 141215               92645                 74782   \n",
       "11                 137590               91578                 78042   \n",
       "12                 133935               87650                 79904   \n",
       "13                 138410               88742                 79356   \n",
       "14                 178570               91835                 82823   \n",
       "15                 188341               97513                 86975   \n",
       "16                 187916               99921                 89902   \n",
       "17                 187735              103021                 92240   \n",
       "18                 190596               92789                 87908   \n",
       "19                 190267               89843                 82838   \n",
       "\n",
       "    Defendents sentenced to prison  police officers killed  \\\n",
       "0                            33022                      76   \n",
       "1                            31805                      74   \n",
       "2                            36373                      55   \n",
       "3                            39431                      65   \n",
       "4                            43041                      61   \n",
       "5                            47659                      42   \n",
       "6                            50451                      51   \n",
       "7                            51057                      70   \n",
       "8                            53682                      56   \n",
       "9                            57629                      52   \n",
       "10                           58106                      57   \n",
       "11                           61151                      55   \n",
       "12                           63699                      48   \n",
       "13                           62893                      57   \n",
       "14                           64529                      41   \n",
       "15                           67499                      48   \n",
       "16                           69494                      56   \n",
       "17                           70049                      72   \n",
       "18                           67582                      49   \n",
       "19                           64390                      27   \n",
       "\n",
       "    Number of officers  \\\n",
       "0               454105   \n",
       "1               421414   \n",
       "2               373575   \n",
       "3               451980   \n",
       "4               445898   \n",
       "5               470145   \n",
       "6               441311   \n",
       "7               464515   \n",
       "8               482762   \n",
       "9               482985   \n",
       "10              499396   \n",
       "11              485048   \n",
       "12              495270   \n",
       "13              517875   \n",
       "14              518120   \n",
       "15              556155   \n",
       "16              532395   \n",
       "17              535651   \n",
       "18              520047   \n",
       "19              533895   \n",
       "\n",
       "    felonious killings of police officer per 100,000 officers  Unnamed: 4  \\\n",
       "0                                               16.74                 NaN   \n",
       "1                                               17.56                70.0   \n",
       "2                                               14.72                 NaN   \n",
       "3                                               14.38                 NaN   \n",
       "4                                               13.68                 NaN   \n",
       "5                                                8.93                 NaN   \n",
       "6                                               11.56                54.8   \n",
       "7                                               15.07                 NaN   \n",
       "8                                               11.60                 NaN   \n",
       "9                                               10.77                 NaN   \n",
       "10                                              11.41                 NaN   \n",
       "11                                              11.34                58.0   \n",
       "12                                               9.69                 NaN   \n",
       "13                                              11.01                 NaN   \n",
       "14                                               7.91                 NaN   \n",
       "15                                               8.63                 NaN   \n",
       "16                                              10.52                50.0   \n",
       "17                                              13.44                 NaN   \n",
       "18                                               9.42                 NaN   \n",
       "19                                               5.06                 NaN   \n",
       "\n",
       "   US Population  \n",
       "0      263126000  \n",
       "1      266278000  \n",
       "2      269394000  \n",
       "3      272657000  \n",
       "4      275854000  \n",
       "5      279040000  \n",
       "6      282162411  \n",
       "7      284968955  \n",
       "8      287625193  \n",
       "9      290107933  \n",
       "10     292805298  \n",
       "11     295516599  \n",
       "12     298379912  \n",
       "13     301231207  \n",
       "14     304093966  \n",
       "15     306771529  \n",
       "16     309321666  \n",
       "17     311556874  \n",
       "18     313830990  \n",
       "19     315993715  "
      ]
     },
     "execution_count": 1,
     "metadata": {},
     "output_type": "execute_result"
    }
   ],
   "source": [
    "# importing packages and datasets\n",
    "import pandas as pd\n",
    "import matplotlib.pyplot as plt\n",
    "data = pd.read_excel('Arrest_data.xlsx')\n",
    "data1 = pd.read_excel('pol_exp_dat.xlsx')\n",
    "pds = pd.read_excel('Police_Deaths.xlsx')\n",
    "pks = pd.read_excel('MPVDatasetDownload.xlsx')\n",
    "pop = pd.read_excel('US_pop_data.xlsx')\n",
    "levels = pd.read_excel('dir_exp_by_level.xlsx')\n",
    "\n",
    "# Data cleaning and reformatting\n",
    "data1 = data1.T  \n",
    "data1 = data1.drop(data1.index[0])  \n",
    "data1 = data1.rename(columns=data1.iloc[0])  \n",
    "data1 = data1.drop(data1.index[0])  \n",
    "\n",
    "pds = pds.drop(pds.index[0:5])\n",
    "\n",
    "pop = pop.T\n",
    "pop = pop.drop(pop.index[0:4])\n",
    "\n",
    "\n",
    "# merging datasets\n",
    "data1['Year(fiscal)'] = data1.index \n",
    "pop['Year(fiscal)'] = pop.index\n",
    "pds = pds.rename(columns = {'year':'Year(fiscal)'})\n",
    "pop = pop.rename(columns = {0:'US Population'})\n",
    "\n",
    "\n",
    "full_data = pd.merge(data1, data)  \n",
    "full_data = pd.merge(full_data, pds)\n",
    "full_data = pd.merge(full_data, pop)\n",
    "\n",
    "#full_data['US Population'] = full_data[0]\n",
    "\n",
    "\n",
    "# uncomment below line to insepct dataset\n",
    "full_data.head(100)\n"
   ]
  },
  {
   "cell_type": "code",
   "execution_count": 4,
   "metadata": {},
   "outputs": [
    {
     "data": {
      "text/plain": [
       "Text(0, 0.5, 'Arrests')"
      ]
     },
     "execution_count": 4,
     "metadata": {},
     "output_type": "execute_result"
    },
    {
     "data": {
      "image/png": "[encoded data removed]",
      "text/plain": [
       "<Figure size 432x288 with 1 Axes>"
      ]
     },
     "metadata": {
      "needs_background": "light"
     },
     "output_type": "display_data"
    }
   ],
   "source": [
    "plt.plot(levels['Year(fiscal)'], levels['Local - Dir Exp'])\n",
    "plt.title(' Local expenses 95\\'-16\\'')\n",
    "plt.xlabel('Year')\n",
    "plt.ylabel('Expenses')"
   ]
  },
  {
   "cell_type": "code",
   "execution_count": 174,
   "metadata": {},
   "outputs": [
    {
     "data": {
      "text/plain": [
       "Text(0, 0.5, 'Arrests')"
      ]
     },
     "execution_count": 174,
     "metadata": {},
     "output_type": "execute_result"
    },
    {
     "data": {
      "image/png": "[encoded data removed]",
      "text/plain": [
       "<Figure size 432x288 with 1 Axes>"
      ]
     },
     "metadata": {
      "needs_background": "light"
     },
     "output_type": "display_data"
    }
   ],
   "source": [
    "plt.plot(full_data['Year(fiscal)'], full_data['Arrested suspects'])\n",
    "plt.title('Suspects Arrested+95\\'-16\\'')\n",
    "plt.xlabel('Year')\n",
    "plt.ylabel('Arrests')"
   ]
  },
  {
   "cell_type": "code",
   "execution_count": 162,
   "metadata": {},
   "outputs": [
    {
     "data": {
      "text/plain": [
       "Text(0, 0.5, 'USD (thousands)($)')"
      ]
     },
     "execution_count": 162,
     "metadata": {},
     "output_type": "execute_result"
    },
    {
     "data": {
      "image/png": "[encoded data removed]",
      "text/plain": [
       "<Figure size 432x288 with 1 Axes>"
      ]
     },
     "metadata": {
      "needs_background": "light"
     },
     "output_type": "display_data"
    }
   ],
   "source": [
    "plt.plot(full_data['Year(fiscal)'], full_data['(E087) Police Prot-Direct Exp'])\n",
    "plt.title('National Police Expenditure 95\\'-16\\'')\n",
    "plt.xlabel('Year')\n",
    "plt.ylabel('USD (thousands)($)')"
   ]
  },
  {
   "cell_type": "code",
   "execution_count": 164,
   "metadata": {},
   "outputs": [
    {
     "data": {
      "text/plain": [
       "Text(0, 0.5, 'killings')"
      ]
     },
     "execution_count": 164,
     "metadata": {},
     "output_type": "execute_result"
    },
    {
     "data": {
      "image/png": "[encoded data removed]",
      "text/plain": [
       "<Figure size 432x288 with 1 Axes>"
      ]
     },
     "metadata": {
      "needs_background": "light"
     },
     "output_type": "display_data"
    }
   ],
   "source": [
    "plt.plot(full_data['Year(fiscal)'], full_data['police officers killed'])\n",
    "plt.title('Police Officers Killed 95\\'-16\\'')\n",
    "plt.xlabel('Year')\n",
    "plt.ylabel('killings')"
   ]
  },
  {
   "cell_type": "code",
   "execution_count": 177,
   "metadata": {},
   "outputs": [
    {
     "data": {
      "text/plain": [
       "Text(0, 0.5, 'Police Deaths')"
      ]
     },
     "execution_count": 177,
     "metadata": {},
     "output_type": "execute_result"
    },
    {
     "data": {
      "image/png": "[encoded data removed]",
      "text/plain": [
       "<Figure size 432x288 with 1 Axes>"
      ]
     },
     "metadata": {
      "needs_background": "light"
     },
     "output_type": "display_data"
    }
   ],
   "source": [
    "plt.scatter(full_data['Arrested suspects'], full_data['police officers killed'])\n",
    "plt.title('Police deaths vs. number of arrests 95\\'-16\\'')\n",
    "plt.xlabel('Arrests')\n",
    "plt.ylabel('Police Deaths')"
   ]
  },
  {
   "cell_type": "code",
   "execution_count": 181,
   "metadata": {},
   "outputs": [
    {
     "data": {
      "text/plain": [
       "Text(0, 0.5, 'Police Deaths')"
      ]
     },
     "execution_count": 181,
     "metadata": {},
     "output_type": "execute_result"
    },
    {
     "data": {
      "image/png": "[encoded data removed]",
      "text/plain": [
       "<Figure size 432x288 with 1 Axes>"
      ]
     },
     "metadata": {
      "needs_background": "light"
     },
     "output_type": "display_data"
    }
   ],
   "source": [
    "plt.scatter(full_data['(E087) Police Prot-Direct Exp'], full_data['police officers killed'])\n",
    "plt.title('Police deaths vs. Police expenditure 95\\'-16\\'')\n",
    "plt.xlabel('Expenditure in thousands of USD')\n",
    "plt.ylabel('Police Deaths')"
   ]
  },
  {
   "cell_type": "code",
   "execution_count": 202,
   "metadata": {},
   "outputs": [
    {
     "data": {
      "text/plain": [
       "Text(0, 0.5, 'Number of Officers')"
      ]
     },
     "execution_count": 202,
     "metadata": {},
     "output_type": "execute_result"
    },
    {
     "data": {
      "image/png": "[encoded data removed]",
      "text/plain": [
       "<Figure size 432x288 with 1 Axes>"
      ]
     },
     "metadata": {
      "needs_background": "light"
     },
     "output_type": "display_data"
    }
   ],
   "source": [
    "plt.scatter(full_data['(E087) Police Prot-Direct Exp'], full_data['Number of officers'])\n",
    "plt.title('Number of Police officers as expenditure increases 95\\'-16\\'')\n",
    "plt.xlabel('expenditure in thousands of USD')\n",
    "plt.ylabel('Number of Officers')"
   ]
  },
  {
   "cell_type": "markdown",
   "metadata": {},
   "source": [
    "##  Valuing quantity over quality"
   ]
  },
  {
   "cell_type": "code",
   "execution_count": 206,
   "metadata": {},
   "outputs": [
    {
     "data": {
      "text/plain": [
       "Text(0, 0.5, 'Arrested suspects')"
      ]
     },
     "execution_count": 206,
     "metadata": {},
     "output_type": "execute_result"
    },
    {
     "data": {
      "image/png": "[encoded data removed]",
      "text/plain": [
       "<Figure size 432x288 with 1 Axes>"
      ]
     },
     "metadata": {
      "needs_background": "light"
     },
     "output_type": "display_data"
    }
   ],
   "source": [
    "plt.scatter(full_data['US Population'], full_data['Arrested suspects'])\n",
    "plt.title('Population vs. Arrested suspects 95\\'-16\\'')\n",
    "plt.xlabel('pop')\n",
    "plt.ylabel('Arrested suspects')"
   ]
  },
  {
   "cell_type": "code",
   "execution_count": null,
   "metadata": {},
   "outputs": [],
   "source": []
  }
 ],
 "metadata": {
  "kernelspec": {
   "display_name": "Python 3",
   "language": "python",
   "name": "python3"
  },
  "language_info": {
   "codemirror_mode": {
    "name": "ipython",
    "version": 3
   },
   "file_extension": ".py",
   "mimetype": "text/x-python",
   "name": "python",
   "nbconvert_exporter": "python",
   "pygments_lexer": "ipython3",
   "version": "3.7.4"
  }
 },
 "nbformat": 4,
 "nbformat_minor": 2
}
